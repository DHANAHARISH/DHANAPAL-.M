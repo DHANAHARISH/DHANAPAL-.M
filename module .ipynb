{
 "cells": [
  {
   "cell_type": "code",
   "execution_count": 7,
   "id": "17a0a719",
   "metadata": {},
   "outputs": [],
   "source": [
    "import dhana3    #task 2"
   ]
  },
  {
   "cell_type": "code",
   "execution_count": 8,
   "id": "d4a1b370",
   "metadata": {},
   "outputs": [
    {
     "data": {
      "text/plain": [
       "'apple'"
      ]
     },
     "execution_count": 8,
     "metadata": {},
     "output_type": "execute_result"
    }
   ],
   "source": [
    "dhana3.B[10:15]"
   ]
  },
  {
   "cell_type": "code",
   "execution_count": 9,
   "id": "689326d6",
   "metadata": {},
   "outputs": [],
   "source": [
    "import dhana5     #task 1 "
   ]
  },
  {
   "cell_type": "code",
   "execution_count": 10,
   "id": "cd44b8c3",
   "metadata": {},
   "outputs": [
    {
     "data": {
      "text/plain": [
       "{12, 2, 3, 4, 8, 9, 'Apple', 'apple'}"
      ]
     },
     "execution_count": 10,
     "metadata": {},
     "output_type": "execute_result"
    }
   ],
   "source": [
    "dhana5.a"
   ]
  },
  {
   "cell_type": "code",
   "execution_count": 11,
   "id": "5b1dd25c",
   "metadata": {},
   "outputs": [],
   "source": [
    "import dhana6    # task 3"
   ]
  },
  {
   "cell_type": "code",
   "execution_count": 12,
   "id": "edce0b99",
   "metadata": {},
   "outputs": [
    {
     "name": "stdout",
     "output_type": "stream",
     "text": [
      "2 is odd\n"
     ]
    },
    {
     "data": {
      "text/plain": [
       "2"
      ]
     },
     "execution_count": 12,
     "metadata": {},
     "output_type": "execute_result"
    }
   ],
   "source": [
    "dhana6.Task(2,1)"
   ]
  },
  {
   "cell_type": "code",
   "execution_count": null,
   "id": "c81db3a4",
   "metadata": {},
   "outputs": [],
   "source": []
  },
  {
   "cell_type": "code",
   "execution_count": null,
   "id": "d8ba85a3",
   "metadata": {},
   "outputs": [],
   "source": []
  }
 ],
 "metadata": {
  "kernelspec": {
   "display_name": "Python 3 (ipykernel)",
   "language": "python",
   "name": "python3"
  },
  "language_info": {
   "codemirror_mode": {
    "name": "ipython",
    "version": 3
   },
   "file_extension": ".py",
   "mimetype": "text/x-python",
   "name": "python",
   "nbconvert_exporter": "python",
   "pygments_lexer": "ipython3",
   "version": "3.11.1"
  }
 },
 "nbformat": 4,
 "nbformat_minor": 5
}
