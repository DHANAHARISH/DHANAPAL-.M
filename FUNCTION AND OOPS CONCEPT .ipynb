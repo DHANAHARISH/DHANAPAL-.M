{
 "cells": [
  {
   "cell_type": "markdown",
   "id": "b45cdb0d",
   "metadata": {},
   "source": [
    "## TASK-3 [Function :]\n",
    "## QST - 1\n",
    "    Write a function add_numbers that takes two numbers as arguments and returns their sum."
   ]
  },
  {
   "cell_type": "code",
   "execution_count": 198,
   "id": "1ccff36f",
   "metadata": {},
   "outputs": [],
   "source": [
    "  def add_numbers (a,b):\n",
    "    c= a+b\n",
    "    return c"
   ]
  },
  {
   "cell_type": "code",
   "execution_count": 199,
   "id": "556d822f",
   "metadata": {},
   "outputs": [
    {
     "data": {
      "text/plain": [
       "11"
      ]
     },
     "execution_count": 199,
     "metadata": {},
     "output_type": "execute_result"
    }
   ],
   "source": [
    "add_numbers(5,6)"
   ]
  },
  {
   "cell_type": "code",
   "execution_count": 200,
   "id": "7509ea2e",
   "metadata": {},
   "outputs": [
    {
     "data": {
      "text/plain": [
       "1"
      ]
     },
     "execution_count": 200,
     "metadata": {},
     "output_type": "execute_result"
    }
   ],
   "source": [
    "add_numbers(-5,6)"
   ]
  },
  {
   "cell_type": "markdown",
   "id": "39e2ea45",
   "metadata": {},
   "source": [
    "## QST-2\n",
    "Write a function multiply_numbers that takes two numbers as arguments and returns their product.\n"
   ]
  },
  {
   "cell_type": "code",
   "execution_count": 201,
   "id": "81bd5416",
   "metadata": {},
   "outputs": [],
   "source": [
    "  def multiply_numbers (a,b):\n",
    "    c= a*b\n",
    "    return c"
   ]
  },
  {
   "cell_type": "code",
   "execution_count": 202,
   "id": "d200de1c",
   "metadata": {},
   "outputs": [
    {
     "data": {
      "text/plain": [
       "30"
      ]
     },
     "execution_count": 202,
     "metadata": {},
     "output_type": "execute_result"
    }
   ],
   "source": [
    "multiply_numbers(5,6)"
   ]
  },
  {
   "cell_type": "code",
   "execution_count": 203,
   "id": "2abfcc4f",
   "metadata": {},
   "outputs": [
    {
     "data": {
      "text/plain": [
       "-30"
      ]
     },
     "execution_count": 203,
     "metadata": {},
     "output_type": "execute_result"
    }
   ],
   "source": [
    "multiply_numbers(-5,6)"
   ]
  },
  {
   "cell_type": "markdown",
   "id": "d941b429",
   "metadata": {},
   "source": [
    "## QSt-3\n",
    "    write a function divide_numbers that takes two numbers as arguments and returns their quotient. \n",
    "    Makesure to handle the case where the second number is 0."
   ]
  },
  {
   "cell_type": "code",
   "execution_count": 204,
   "id": "4f891be2",
   "metadata": {},
   "outputs": [],
   "source": [
    "  def divide_numbers (a,b):\n",
    "         if b == 0:\n",
    "            return \"Error: cannot divide by zero\" \n",
    "         else:\n",
    "            return a/b\n",
    "        \n",
    "  "
   ]
  },
  {
   "cell_type": "code",
   "execution_count": 205,
   "id": "e288244c",
   "metadata": {},
   "outputs": [
    {
     "name": "stdout",
     "output_type": "stream",
     "text": [
      "5.0\n"
     ]
    }
   ],
   "source": [
    "print( divide_numbers(10,2))"
   ]
  },
  {
   "cell_type": "code",
   "execution_count": 206,
   "id": "697456aa",
   "metadata": {},
   "outputs": [
    {
     "name": "stdout",
     "output_type": "stream",
     "text": [
      "Error: cannot divide by zero\n"
     ]
    }
   ],
   "source": [
    "print (divide_numbers(8,0))"
   ]
  },
  {
   "cell_type": "markdown",
   "id": "e8249515",
   "metadata": {},
   "source": [
    "## QST-4\n",
    "Write a function calculate_average that takes a list of numbers as an argument and returns their average.\n"
   ]
  },
  {
   "cell_type": "code",
   "execution_count": 207,
   "id": "dd20f2b1",
   "metadata": {},
   "outputs": [],
   "source": [
    "dhana=(1,2,3,4,5,6,7,8,9,10) \n",
    "def calculate_average(dhana):\n",
    "    return sum(dhana) /len(dhana)\n"
   ]
  },
  {
   "cell_type": "code",
   "execution_count": 208,
   "id": "83eb0860",
   "metadata": {},
   "outputs": [
    {
     "data": {
      "text/plain": [
       "10"
      ]
     },
     "execution_count": 208,
     "metadata": {},
     "output_type": "execute_result"
    }
   ],
   "source": [
    "len(dhana)"
   ]
  },
  {
   "cell_type": "code",
   "execution_count": 209,
   "id": "209c400c",
   "metadata": {},
   "outputs": [
    {
     "data": {
      "text/plain": [
       "5.5"
      ]
     },
     "execution_count": 209,
     "metadata": {},
     "output_type": "execute_result"
    }
   ],
   "source": [
    "calculate_average(dhana)"
   ]
  },
  {
   "cell_type": "markdown",
   "id": "1d59f8a6",
   "metadata": {},
   "source": [
    "## QST-5\n",
    "Write a function is_prime that takes a number as an argument and returns True if the number is prime andFalse otherwise."
   ]
  },
  {
   "cell_type": "code",
   "execution_count": 210,
   "id": "b7d59fd8",
   "metadata": {},
   "outputs": [],
   "source": [
    "def is_prime(number):\n",
    "    if number < 2:\n",
    "        return False\n",
    "    else:\n",
    "        for i in range(2, number):\n",
    "            if number % i == 0:\n",
    "                return False\n",
    "        return True"
   ]
  },
  {
   "cell_type": "code",
   "execution_count": 211,
   "id": "c950eca2",
   "metadata": {},
   "outputs": [
    {
     "data": {
      "text/plain": [
       "True"
      ]
     },
     "execution_count": 211,
     "metadata": {},
     "output_type": "execute_result"
    }
   ],
   "source": [
    "is_prime(5)\n"
   ]
  },
  {
   "cell_type": "code",
   "execution_count": 212,
   "id": "8e8f1b1f",
   "metadata": {},
   "outputs": [
    {
     "data": {
      "text/plain": [
       "False"
      ]
     },
     "execution_count": 212,
     "metadata": {},
     "output_type": "execute_result"
    }
   ],
   "source": [
    "is_prime(10)"
   ]
  },
  {
   "cell_type": "markdown",
   "id": "ae636ccb",
   "metadata": {},
   "source": [
    "## OOPs:\n",
    "## QST-1\n",
    "                Create a class Bank with attributes name and accounts. Add methods add_account, remove_account,and get_total_balance that add an account to the list, remove an account from the list, and return the totalbalance of all accounts, respectively."
   ]
  },
  {
   "cell_type": "code",
   "execution_count": 217,
   "id": "e1f39d89",
   "metadata": {},
   "outputs": [],
   "source": [
    "class Bank:\n",
    "    def __init__(self, name):\n",
    "        self.name = name\n",
    "        self.accounts = []\n",
    "\n",
    "    def add_account(self, account):\n",
    "        self.accounts.append(account)\n",
    "\n",
    "    def remove_account(self, account):\n",
    "        self.accounts.remove(account)\n",
    "\n",
    "    def get_total_balance(self):\n",
    "        total_balance = 0\n",
    "        for account in self.accounts:\n",
    "            total_balance += account.balance\n",
    "        return total_balance"
   ]
  },
  {
   "cell_type": "code",
   "execution_count": 218,
   "id": "431fbea8",
   "metadata": {},
   "outputs": [],
   "source": [
    "class Account:\n",
    "    def __init__(self, balance):\n",
    "        self.balance = balance\n",
    "\n",
    "    def deposit(self, amount):\n",
    "        self.balance += amount\n",
    "\n",
    "    def withdraw(self, amount):\n",
    "        self.balance -= amount"
   ]
  },
  {
   "cell_type": "code",
   "execution_count": 219,
   "id": "583a45b4",
   "metadata": {},
   "outputs": [
    {
     "name": "stdout",
     "output_type": "stream",
     "text": [
      "1000\n"
     ]
    }
   ],
   "source": [
    "my_bank = Bank('My Bank')\n",
    "my_account = Account(1000)\n",
    "my_bank.add_account(my_account)\n",
    "print(my_bank.get_total_balance()) "
   ]
  },
  {
   "cell_type": "code",
   "execution_count": null,
   "id": "860d5256",
   "metadata": {},
   "outputs": [],
   "source": []
  },
  {
   "cell_type": "code",
   "execution_count": null,
   "id": "42b81571",
   "metadata": {},
   "outputs": [],
   "source": []
  },
  {
   "cell_type": "code",
   "execution_count": null,
   "id": "84209e2e",
   "metadata": {},
   "outputs": [],
   "source": []
  },
  {
   "cell_type": "code",
   "execution_count": null,
   "id": "91daf21b",
   "metadata": {},
   "outputs": [],
   "source": []
  },
  {
   "cell_type": "code",
   "execution_count": null,
   "id": "b4ee45cc",
   "metadata": {},
   "outputs": [],
   "source": []
  },
  {
   "cell_type": "code",
   "execution_count": null,
   "id": "c1ca6f2e",
   "metadata": {},
   "outputs": [],
   "source": []
  },
  {
   "cell_type": "code",
   "execution_count": null,
   "id": "cc8325be",
   "metadata": {},
   "outputs": [],
   "source": []
  }
 ],
 "metadata": {
  "kernelspec": {
   "display_name": "Python 3 (ipykernel)",
   "language": "python",
   "name": "python3"
  },
  "language_info": {
   "codemirror_mode": {
    "name": "ipython",
    "version": 3
   },
   "file_extension": ".py",
   "mimetype": "text/x-python",
   "name": "python",
   "nbconvert_exporter": "python",
   "pygments_lexer": "ipython3",
   "version": "3.11.1"
  }
 },
 "nbformat": 4,
 "nbformat_minor": 5
}
