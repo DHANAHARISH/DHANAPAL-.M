{
 "cells": [
  {
   "cell_type": "markdown",
   "id": "26641798",
   "metadata": {},
   "source": [
    "## Task-6\n",
    "## QST-1\n",
    "Import the NumPy library and create a 2D array data from the given data in the table above."
   ]
  },
  {
   "cell_type": "code",
   "execution_count": 120,
   "id": "274ab788",
   "metadata": {},
   "outputs": [],
   "source": [
    "import pandas as pd \n",
    "import warnings\n",
    "warnings.filterwarnings(\"ignore\")\n",
    "import numpy as np"
   ]
  },
  {
   "cell_type": "code",
   "execution_count": 121,
   "id": "f3a8ba19",
   "metadata": {},
   "outputs": [],
   "source": [
    "data= pd.read_csv(\"D:\\padas_question.csv\")"
   ]
  },
  {
   "cell_type": "code",
   "execution_count": 122,
   "id": "07ba8450",
   "metadata": {},
   "outputs": [
    {
     "data": {
      "text/html": [
       "<div>\n",
       "<style scoped>\n",
       "    .dataframe tbody tr th:only-of-type {\n",
       "        vertical-align: middle;\n",
       "    }\n",
       "\n",
       "    .dataframe tbody tr th {\n",
       "        vertical-align: top;\n",
       "    }\n",
       "\n",
       "    .dataframe thead th {\n",
       "        text-align: right;\n",
       "    }\n",
       "</style>\n",
       "<table border=\"1\" class=\"dataframe\">\n",
       "  <thead>\n",
       "    <tr style=\"text-align: right;\">\n",
       "      <th></th>\n",
       "      <th>Name</th>\n",
       "      <th>Gender</th>\n",
       "      <th>Age</th>\n",
       "      <th>Height (cm)</th>\n",
       "      <th>Weight (kg)</th>\n",
       "      <th>City</th>\n",
       "    </tr>\n",
       "  </thead>\n",
       "  <tbody>\n",
       "    <tr>\n",
       "      <th>0</th>\n",
       "      <td>Alice</td>\n",
       "      <td>Female</td>\n",
       "      <td>25</td>\n",
       "      <td>165</td>\n",
       "      <td>58</td>\n",
       "      <td>New York</td>\n",
       "    </tr>\n",
       "    <tr>\n",
       "      <th>1</th>\n",
       "      <td>Bob</td>\n",
       "      <td>Male</td>\n",
       "      <td>30</td>\n",
       "      <td>180</td>\n",
       "      <td>80</td>\n",
       "      <td>Los Angeles</td>\n",
       "    </tr>\n",
       "    <tr>\n",
       "      <th>2</th>\n",
       "      <td>Charlie</td>\n",
       "      <td>Male</td>\n",
       "      <td>35</td>\n",
       "      <td>175</td>\n",
       "      <td>70</td>\n",
       "      <td>Chicago</td>\n",
       "    </tr>\n",
       "    <tr>\n",
       "      <th>3</th>\n",
       "      <td>Diana</td>\n",
       "      <td>Female</td>\n",
       "      <td>28</td>\n",
       "      <td>170</td>\n",
       "      <td>65</td>\n",
       "      <td>Miami</td>\n",
       "    </tr>\n",
       "    <tr>\n",
       "      <th>4</th>\n",
       "      <td>Eva</td>\n",
       "      <td>Female</td>\n",
       "      <td>27</td>\n",
       "      <td>175</td>\n",
       "      <td>60</td>\n",
       "      <td>New York</td>\n",
       "    </tr>\n",
       "    <tr>\n",
       "      <th>5</th>\n",
       "      <td>Frank</td>\n",
       "      <td>Male</td>\n",
       "      <td>40</td>\n",
       "      <td>190</td>\n",
       "      <td>85</td>\n",
       "      <td>Houston</td>\n",
       "    </tr>\n",
       "    <tr>\n",
       "      <th>6</th>\n",
       "      <td>Grace</td>\n",
       "      <td>Female</td>\n",
       "      <td>32</td>\n",
       "      <td>168</td>\n",
       "      <td>55</td>\n",
       "      <td>Chicago</td>\n",
       "    </tr>\n",
       "    <tr>\n",
       "      <th>7</th>\n",
       "      <td>Henry</td>\n",
       "      <td>Male</td>\n",
       "      <td>45</td>\n",
       "      <td>175</td>\n",
       "      <td>75</td>\n",
       "      <td>Los Angeles</td>\n",
       "    </tr>\n",
       "    <tr>\n",
       "      <th>8</th>\n",
       "      <td>Ivy</td>\n",
       "      <td>Female</td>\n",
       "      <td>26</td>\n",
       "      <td>172</td>\n",
       "      <td>63</td>\n",
       "      <td>Miami</td>\n",
       "    </tr>\n",
       "    <tr>\n",
       "      <th>9</th>\n",
       "      <td>Jack</td>\n",
       "      <td>Male</td>\n",
       "      <td>28</td>\n",
       "      <td>180</td>\n",
       "      <td>78</td>\n",
       "      <td>New York</td>\n",
       "    </tr>\n",
       "  </tbody>\n",
       "</table>\n",
       "</div>"
      ],
      "text/plain": [
       "      Name  Gender  Age  Height (cm)  Weight (kg)         City\n",
       "0    Alice  Female   25          165           58     New York\n",
       "1      Bob    Male   30          180           80  Los Angeles\n",
       "2  Charlie    Male   35          175           70      Chicago\n",
       "3    Diana  Female   28          170           65        Miami\n",
       "4      Eva  Female   27          175           60     New York\n",
       "5    Frank    Male   40          190           85      Houston\n",
       "6    Grace  Female   32          168           55      Chicago\n",
       "7    Henry    Male   45          175           75  Los Angeles\n",
       "8      Ivy  Female   26          172           63        Miami\n",
       "9     Jack    Male   28          180           78     New York"
      ]
     },
     "execution_count": 122,
     "metadata": {},
     "output_type": "execute_result"
    }
   ],
   "source": [
    "data"
   ]
  },
  {
   "cell_type": "code",
   "execution_count": 143,
   "id": "668f9ae4",
   "metadata": {},
   "outputs": [],
   "source": [
    "data_list = df.values.tolist()\n"
   ]
  },
  {
   "cell_type": "code",
   "execution_count": 146,
   "id": "68fe2694",
   "metadata": {},
   "outputs": [
    {
     "data": {
      "text/plain": [
       "[['Alice', 'Female', 25, 165, 58, 'New York'],\n",
       " ['Bob', 'Male', 30, 180, 80, 'Los Angeles'],\n",
       " ['Charlie', 'Male', 35, 175, 70, 'Chicago'],\n",
       " ['Diana', 'Female', 28, 170, 65, 'Miami'],\n",
       " ['Eva', 'Female', 27, 175, 60, 'New York'],\n",
       " ['Frank', 'Male', 40, 190, 85, 'Houston'],\n",
       " ['Grace', 'Female', 32, 168, 55, 'Chicago'],\n",
       " ['Henry', 'Male', 45, 175, 75, 'Los Angeles'],\n",
       " ['Ivy', 'Female', 26, 172, 63, 'Miami'],\n",
       " ['Jack', 'Male', 28, 180, 78, 'New York']]"
      ]
     },
     "execution_count": 146,
     "metadata": {},
     "output_type": "execute_result"
    }
   ],
   "source": [
    "data_list"
   ]
  },
  {
   "cell_type": "code",
   "execution_count": 147,
   "id": "c48b2ef3",
   "metadata": {},
   "outputs": [],
   "source": [
    "data_list=np.array(data)\n"
   ]
  },
  {
   "cell_type": "code",
   "execution_count": 148,
   "id": "cdb4618c",
   "metadata": {},
   "outputs": [
    {
     "data": {
      "text/plain": [
       "array([['Alice', 'Female', 25, 165, 58, 'New York'],\n",
       "       ['Bob', 'Male', 30, 180, 80, 'Los Angeles'],\n",
       "       ['Charlie', 'Male', 35, 175, 70, 'Chicago'],\n",
       "       ['Diana', 'Female', 28, 170, 65, 'Miami'],\n",
       "       ['Eva', 'Female', 27, 175, 60, 'New York'],\n",
       "       ['Frank', 'Male', 40, 190, 85, 'Houston'],\n",
       "       ['Grace', 'Female', 32, 168, 55, 'Chicago'],\n",
       "       ['Henry', 'Male', 45, 175, 75, 'Los Angeles'],\n",
       "       ['Ivy', 'Female', 26, 172, 63, 'Miami'],\n",
       "       ['Jack', 'Male', 28, 180, 78, 'New York']], dtype=object)"
      ]
     },
     "execution_count": 148,
     "metadata": {},
     "output_type": "execute_result"
    }
   ],
   "source": [
    "data_list"
   ]
  },
  {
   "cell_type": "markdown",
   "id": "414e973c",
   "metadata": {},
   "source": [
    "## QST-2\n",
    "Print the shape of the data array."
   ]
  },
  {
   "cell_type": "code",
   "execution_count": 149,
   "id": "923221bf",
   "metadata": {},
   "outputs": [
    {
     "data": {
      "text/plain": [
       "(10, 6)"
      ]
     },
     "execution_count": 149,
     "metadata": {},
     "output_type": "execute_result"
    }
   ],
   "source": [
    "data.shape"
   ]
  },
  {
   "cell_type": "markdown",
   "id": "9ab11177",
   "metadata": {},
   "source": [
    "## QST-3\n",
    "Extract the column of heights from the data array and assign it to a new variable heights\n"
   ]
  },
  {
   "cell_type": "code",
   "execution_count": 186,
   "id": "54156ef2",
   "metadata": {},
   "outputs": [],
   "source": [
    "heights=data_list[:,3]  ## take all rows and the fourth column (index 3)\".\n"
   ]
  },
  {
   "cell_type": "code",
   "execution_count": 187,
   "id": "7db9c472",
   "metadata": {},
   "outputs": [
    {
     "name": "stdout",
     "output_type": "stream",
     "text": [
      "[165 180 175 170 175 190 168 175 172 180]\n"
     ]
    }
   ],
   "source": [
    "print(heights)"
   ]
  },
  {
   "cell_type": "markdown",
   "id": "8613a249",
   "metadata": {},
   "source": [
    "## QST - 4\n",
    "Calculate the mean height of the group using NumPy."
   ]
  },
  {
   "cell_type": "code",
   "execution_count": 188,
   "id": "26742508",
   "metadata": {},
   "outputs": [
    {
     "data": {
      "text/plain": [
       "175.0"
      ]
     },
     "execution_count": 188,
     "metadata": {},
     "output_type": "execute_result"
    }
   ],
   "source": [
    " np.mean(heights)"
   ]
  },
  {
   "cell_type": "markdown",
   "id": "eff2abab",
   "metadata": {},
   "source": [
    "## QST-5\n",
    "Extract the rows of females from the data array and assign it to a new variable females"
   ]
  },
  {
   "cell_type": "code",
   "execution_count": 189,
   "id": "da957e6a",
   "metadata": {},
   "outputs": [],
   "source": [
    "females=data_list[data_list[:,1]=='Female']"
   ]
  },
  {
   "cell_type": "code",
   "execution_count": 190,
   "id": "c67ac992",
   "metadata": {},
   "outputs": [
    {
     "name": "stdout",
     "output_type": "stream",
     "text": [
      "[['Alice' 'Female' 25 165 58 'New York']\n",
      " ['Diana' 'Female' 28 170 65 'Miami']\n",
      " ['Eva' 'Female' 27 175 60 'New York']\n",
      " ['Grace' 'Female' 32 168 55 'Chicago']\n",
      " ['Ivy' 'Female' 26 172 63 'Miami']]\n"
     ]
    }
   ],
   "source": [
    "print(females)"
   ]
  },
  {
   "cell_type": "markdown",
   "id": "a9fa78bf",
   "metadata": {},
   "source": [
    "## QST - 6\n",
    "Calculate the mean weight of the females in the group using NumPy"
   ]
  },
  {
   "cell_type": "code",
   "execution_count": 199,
   "id": "f38c135b",
   "metadata": {},
   "outputs": [],
   "source": [
    "weight=females[:,4] "
   ]
  },
  {
   "cell_type": "code",
   "execution_count": 200,
   "id": "86359fa7",
   "metadata": {},
   "outputs": [
    {
     "data": {
      "text/plain": [
       "array([58, 65, 60, 55, 63], dtype=object)"
      ]
     },
     "execution_count": 200,
     "metadata": {},
     "output_type": "execute_result"
    }
   ],
   "source": [
    "weight"
   ]
  },
  {
   "cell_type": "code",
   "execution_count": 201,
   "id": "8129ee20",
   "metadata": {},
   "outputs": [
    {
     "data": {
      "text/plain": [
       "60.2"
      ]
     },
     "execution_count": 201,
     "metadata": {},
     "output_type": "execute_result"
    }
   ],
   "source": [
    "np.mean(weight)"
   ]
  },
  {
   "cell_type": "code",
   "execution_count": null,
   "id": "f4477af4",
   "metadata": {},
   "outputs": [],
   "source": []
  }
 ],
 "metadata": {
  "kernelspec": {
   "display_name": "Python 3 (ipykernel)",
   "language": "python",
   "name": "python3"
  },
  "language_info": {
   "codemirror_mode": {
    "name": "ipython",
    "version": 3
   },
   "file_extension": ".py",
   "mimetype": "text/x-python",
   "name": "python",
   "nbconvert_exporter": "python",
   "pygments_lexer": "ipython3",
   "version": "3.11.1"
  }
 },
 "nbformat": 4,
 "nbformat_minor": 5
}
