{
 "cells": [
  {
   "cell_type": "markdown",
   "id": "264da6a3",
   "metadata": {},
   "source": [
    "## Task_2\n",
    "# Qst-1\n",
    "Create a tuple my_tuple with the values 1, 2, and 3. Print the tuple"
   ]
  },
  {
   "cell_type": "code",
   "execution_count": 1,
   "id": "b1d06701",
   "metadata": {},
   "outputs": [
    {
     "data": {
      "text/plain": [
       "tuple"
      ]
     },
     "execution_count": 1,
     "metadata": {},
     "output_type": "execute_result"
    }
   ],
   "source": [
    "My_tuple=(1,2,3)\n",
    "type(My_tuple)"
   ]
  },
  {
   "cell_type": "code",
   "execution_count": 2,
   "id": "b376ee12",
   "metadata": {},
   "outputs": [
    {
     "name": "stdout",
     "output_type": "stream",
     "text": [
      "tuple(1, 2, 3)\n"
     ]
    }
   ],
   "source": [
    "print(f'tuple{My_tuple}')\n"
   ]
  },
  {
   "cell_type": "markdown",
   "id": "4311116e",
   "metadata": {},
   "source": [
    "# Qst-2\n",
    "Create a set my_set with the values 1, 2, and 3. Print the set."
   ]
  },
  {
   "cell_type": "code",
   "execution_count": 3,
   "id": "8ac3b6da",
   "metadata": {},
   "outputs": [
    {
     "data": {
      "text/plain": [
       "set"
      ]
     },
     "execution_count": 3,
     "metadata": {},
     "output_type": "execute_result"
    }
   ],
   "source": [
    "My_set={1,2,3}\n",
    "type(My_set)"
   ]
  },
  {
   "cell_type": "code",
   "execution_count": 4,
   "id": "1f898e8b",
   "metadata": {},
   "outputs": [
    {
     "name": "stdout",
     "output_type": "stream",
     "text": [
      "set{1, 2, 3}\n"
     ]
    }
   ],
   "source": [
    "print( f'set{My_set}')"
   ]
  },
  {
   "cell_type": "markdown",
   "id": "43b5d69b",
   "metadata": {},
   "source": [
    "# Qst-3\n",
    "    Create a dictionary my_dict with keys \"apple\", \"banana\", and \"cherry\" and values 1, 2, and 3. Print thedictionary."
   ]
  },
  {
   "cell_type": "code",
   "execution_count": 5,
   "id": "902d3f9f",
   "metadata": {},
   "outputs": [],
   "source": [
    "My_dict={'apple':1,'banana':2,'cherry':3}\n"
   ]
  },
  {
   "cell_type": "code",
   "execution_count": 6,
   "id": "51fdac39",
   "metadata": {},
   "outputs": [
    {
     "data": {
      "text/plain": [
       "dict_keys(['apple', 'banana', 'cherry'])"
      ]
     },
     "execution_count": 6,
     "metadata": {},
     "output_type": "execute_result"
    }
   ],
   "source": [
    "My_dict.keys()"
   ]
  },
  {
   "cell_type": "code",
   "execution_count": 7,
   "id": "315c4e3d",
   "metadata": {},
   "outputs": [
    {
     "data": {
      "text/plain": [
       "dict_values([1, 2, 3])"
      ]
     },
     "execution_count": 7,
     "metadata": {},
     "output_type": "execute_result"
    }
   ],
   "source": [
    "My_dict.values()"
   ]
  },
  {
   "cell_type": "code",
   "execution_count": 8,
   "id": "24f2af59",
   "metadata": {},
   "outputs": [
    {
     "name": "stdout",
     "output_type": "stream",
     "text": [
      "The dictionary keys and value are {'apple': 1, 'banana': 2, 'cherry': 3}\n"
     ]
    }
   ],
   "source": [
    "print(f'The dictionary keys and value are {My_dict}') "
   ]
  },
  {
   "cell_type": "markdown",
   "id": "9ae6949e",
   "metadata": {},
   "source": [
    "# Qst - 4\n",
    "    Use a for loop to print the values in my_tuple one by one.\n"
   ]
  },
  {
   "cell_type": "code",
   "execution_count": 9,
   "id": "419c2c12",
   "metadata": {},
   "outputs": [
    {
     "data": {
      "text/plain": [
       "tuple"
      ]
     },
     "execution_count": 9,
     "metadata": {},
     "output_type": "execute_result"
    }
   ],
   "source": [
    "My_tuple = (1,2,3,4,5)\n",
    "type(My_tuple)\n"
   ]
  },
  {
   "cell_type": "code",
   "execution_count": 10,
   "id": "04739586",
   "metadata": {},
   "outputs": [
    {
     "name": "stdout",
     "output_type": "stream",
     "text": [
      "1\n",
      "2\n",
      "3\n",
      "4\n",
      "5\n"
     ]
    }
   ],
   "source": [
    "for i in My_tuple:\n",
    "    print(i)"
   ]
  },
  {
   "cell_type": "markdown",
   "id": "49a9d08d",
   "metadata": {},
   "source": [
    "# Qst -5 \n",
    "Use a for loop to print the values in my_set one by one."
   ]
  },
  {
   "cell_type": "code",
   "execution_count": 11,
   "id": "254fa0c8",
   "metadata": {},
   "outputs": [
    {
     "data": {
      "text/plain": [
       "set"
      ]
     },
     "execution_count": 11,
     "metadata": {},
     "output_type": "execute_result"
    }
   ],
   "source": [
    "My_set = {1,2,3,4,5}\n",
    "type(My_set)\n"
   ]
  },
  {
   "cell_type": "code",
   "execution_count": 12,
   "id": "25608a48",
   "metadata": {},
   "outputs": [
    {
     "name": "stdout",
     "output_type": "stream",
     "text": [
      "1\n",
      "2\n",
      "3\n",
      "4\n",
      "5\n"
     ]
    }
   ],
   "source": [
    "for i in My_set:\n",
    "    print(i)"
   ]
  },
  {
   "cell_type": "markdown",
   "id": "5d560eb0",
   "metadata": {},
   "source": [
    "# Qst - 6\n",
    " Use a for loop to print the keys and values in my_dict one by one.\n",
    " \n"
   ]
  },
  {
   "cell_type": "code",
   "execution_count": 13,
   "id": "a434201a",
   "metadata": {},
   "outputs": [
    {
     "data": {
      "text/plain": [
       "dict"
      ]
     },
     "execution_count": 13,
     "metadata": {},
     "output_type": "execute_result"
    }
   ],
   "source": [
    "My_dict={'dhana':24,'shiva':26,'kumar':28,'kr7':30}\n",
    "type(My_dict)\n"
   ]
  },
  {
   "cell_type": "code",
   "execution_count": 58,
   "id": "bd4f0e35",
   "metadata": {},
   "outputs": [
    {
     "name": "stdout",
     "output_type": "stream",
     "text": [
      "dhana 24\n",
      "shiva 26\n",
      "kumar 28\n",
      "kr7 30\n"
     ]
    }
   ],
   "source": [
    "for a , b  in My_dict.items():\n",
    "    print(a,b)\n",
    "    "
   ]
  },
  {
   "cell_type": "markdown",
   "id": "45da1077",
   "metadata": {},
   "source": [
    "# Qst - 7\n",
    "Use a while loop to print the numbers from 1 to 10."
   ]
  },
  {
   "cell_type": "code",
   "execution_count": 15,
   "id": "90db00a2",
   "metadata": {},
   "outputs": [
    {
     "name": "stdout",
     "output_type": "stream",
     "text": [
      "1\n",
      "2\n",
      "3\n",
      "4\n",
      "5\n",
      "6\n",
      "7\n",
      "8\n",
      "9\n",
      "10\n"
     ]
    }
   ],
   "source": [
    "i=1\n",
    "while i < 11:\n",
    "    print(i)\n",
    "    i=i+1"
   ]
  },
  {
   "cell_type": "markdown",
   "id": "a7c164ab",
   "metadata": {},
   "source": [
    "# Qst -8\n",
    "Use a while loop to print the even numbers from 2 to 10."
   ]
  },
  {
   "cell_type": "code",
   "execution_count": 16,
   "id": "f92d7daa",
   "metadata": {},
   "outputs": [
    {
     "name": "stdout",
     "output_type": "stream",
     "text": [
      "2\n",
      "4\n",
      "6\n",
      "8\n",
      "10\n"
     ]
    }
   ],
   "source": [
    "i=2\n",
    "while i < 11:\n",
    "    print(i)\n",
    "    i=i+2"
   ]
  },
  {
   "cell_type": "markdown",
   "id": "819a9b0b",
   "metadata": {},
   "source": [
    "# Qst-9\n",
    "Use a while loop to print the squares of the numbers from 1 to 5."
   ]
  },
  {
   "cell_type": "code",
   "execution_count": 18,
   "id": "b13598c6",
   "metadata": {},
   "outputs": [
    {
     "name": "stdout",
     "output_type": "stream",
     "text": [
      "1\n",
      "4\n",
      "9\n",
      "16\n",
      "25\n"
     ]
    }
   ],
   "source": [
    "i=1\n",
    "while i <= 5:\n",
    "    print(i**2)\n",
    "    i=i+1"
   ]
  },
  {
   "cell_type": "markdown",
   "id": "4d8c1c1d",
   "metadata": {},
   "source": [
    "# Qst - 10\n",
    "Use a for loop to print the sum of the numbers in my_tuple."
   ]
  },
  {
   "cell_type": "code",
   "execution_count": 57,
   "id": "de6942b4",
   "metadata": {},
   "outputs": [
    {
     "name": "stdout",
     "output_type": "stream",
     "text": [
      "2\n",
      "3\n",
      "4\n",
      "5\n",
      "6\n"
     ]
    }
   ],
   "source": [
    "My_tuple=(1,2,3,4,5)\n",
    "sum=1\n",
    "for i in My_tuple:\n",
    "    print(i+sum)"
   ]
  },
  {
   "cell_type": "code",
   "execution_count": null,
   "id": "eaf868bf",
   "metadata": {},
   "outputs": [],
   "source": []
  }
 ],
 "metadata": {
  "kernelspec": {
   "display_name": "Python 3 (ipykernel)",
   "language": "python",
   "name": "python3"
  },
  "language_info": {
   "codemirror_mode": {
    "name": "ipython",
    "version": 3
   },
   "file_extension": ".py",
   "mimetype": "text/x-python",
   "name": "python",
   "nbconvert_exporter": "python",
   "pygments_lexer": "ipython3",
   "version": "3.11.1"
  }
 },
 "nbformat": 4,
 "nbformat_minor": 5
}
