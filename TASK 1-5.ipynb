{
 "cells": [
  {
   "cell_type": "markdown",
   "id": "c227ee8e",
   "metadata": {},
   "source": [
    "TASK-1/ romve duplicates"
   ]
  },
  {
   "cell_type": "code",
   "execution_count": 12,
   "id": "40cb18f8",
   "metadata": {},
   "outputs": [],
   "source": [
    "a=[2,3,4,2,3,4,8,9,12,\"apple\",'Apple']    \n"
   ]
  },
  {
   "cell_type": "code",
   "execution_count": 13,
   "id": "043a40f5",
   "metadata": {},
   "outputs": [
    {
     "data": {
      "text/plain": [
       "list"
      ]
     },
     "execution_count": 13,
     "metadata": {},
     "output_type": "execute_result"
    }
   ],
   "source": [
    "type(a)"
   ]
  },
  {
   "cell_type": "code",
   "execution_count": 14,
   "id": "4cb004d5",
   "metadata": {},
   "outputs": [
    {
     "data": {
      "text/plain": [
       "{12, 2, 3, 4, 8, 9, 'Apple', 'apple'}"
      ]
     },
     "execution_count": 14,
     "metadata": {},
     "output_type": "execute_result"
    }
   ],
   "source": [
    "## now i am use type casting, TO convert set {} ,because set is not allowed duplicated \n",
    "a=set(a)\n",
    "a"
   ]
  },
  {
   "cell_type": "code",
   "execution_count": 15,
   "id": "c5b74303",
   "metadata": {},
   "outputs": [
    {
     "data": {
      "text/plain": [
       "[2, 3, 4, 8, 9, 12, 'apple', 'Apple']"
      ]
     },
     "execution_count": 15,
     "metadata": {},
     "output_type": "execute_result"
    }
   ],
   "source": [
    "a=list(a)  \n",
    "a"
   ]
  },
  {
   "cell_type": "markdown",
   "id": "ca860554",
   "metadata": {},
   "source": [
    "TASK-2/Slice "
   ]
  },
  {
   "cell_type": "code",
   "execution_count": 16,
   "id": "a9fac957",
   "metadata": {},
   "outputs": [
    {
     "data": {
      "text/plain": [
       "'apple'"
      ]
     },
     "execution_count": 16,
     "metadata": {},
     "output_type": "execute_result"
    }
   ],
   "source": [
    "B='i need an apple'\n",
    "B[10:15]"
   ]
  },
  {
   "cell_type": "markdown",
   "id": "6960e2dc",
   "metadata": {},
   "source": [
    "TASK-3/create a fuction "
   ]
  },
  {
   "cell_type": "code",
   "execution_count": 17,
   "id": "e5c4d2cb",
   "metadata": {},
   "outputs": [],
   "source": [
    "# Add both num when both num are even\n",
    "# mutiple the num when both num are odd\n",
    "def Task(num1,num2):\n",
    "    if num1 and num2 % 2==0:\n",
    "        a=num1+num2\n",
    "        print(a,'is even')\n",
    "        return a\n",
    "    else:\n",
    "        a=num1*num2\n",
    "        print(a,'is odd')\n",
    "        return a"
   ]
  },
  {
   "cell_type": "code",
   "execution_count": 18,
   "id": "e6d265e5",
   "metadata": {},
   "outputs": [
    {
     "name": "stdout",
     "output_type": "stream",
     "text": [
      "10 is even\n"
     ]
    },
    {
     "data": {
      "text/plain": [
       "10"
      ]
     },
     "execution_count": 18,
     "metadata": {},
     "output_type": "execute_result"
    }
   ],
   "source": [
    "Task(4,6)"
   ]
  },
  {
   "cell_type": "code",
   "execution_count": 19,
   "id": "a7334c3b",
   "metadata": {},
   "outputs": [
    {
     "name": "stdout",
     "output_type": "stream",
     "text": [
      "2 is odd\n"
     ]
    },
    {
     "data": {
      "text/plain": [
       "2"
      ]
     },
     "execution_count": 19,
     "metadata": {},
     "output_type": "execute_result"
    }
   ],
   "source": [
    "Task(2,1)"
   ]
  },
  {
   "cell_type": "markdown",
   "id": "0aa76baa",
   "metadata": {},
   "source": [
    "TASK -4/create a module\n",
    "\n"
   ]
  },
  {
   "cell_type": "code",
   "execution_count": 20,
   "id": "2fa70ae5",
   "metadata": {},
   "outputs": [],
   "source": [
    "# module is use to create another file use the function same code \n",
    "def add(a,b):\n",
    "    c=a+b\n",
    "    return(c)\n"
   ]
  },
  {
   "cell_type": "code",
   "execution_count": 21,
   "id": "a0cee93a",
   "metadata": {},
   "outputs": [
    {
     "data": {
      "text/plain": [
       "20"
      ]
     },
     "execution_count": 21,
     "metadata": {},
     "output_type": "execute_result"
    }
   ],
   "source": [
    "add(10,10)"
   ]
  },
  {
   "cell_type": "markdown",
   "id": "c5244d9b",
   "metadata": {},
   "source": [
    "TASK -5"
   ]
  },
  {
   "cell_type": "code",
   "execution_count": 22,
   "id": "904449d6",
   "metadata": {},
   "outputs": [
    {
     "name": "stdout",
     "output_type": "stream",
     "text": [
      "8\n",
      "16\n",
      "24\n",
      "32\n",
      "40\n",
      "48\n",
      "56\n",
      "64\n",
      "72\n",
      "80\n",
      "88\n",
      "96\n",
      "104\n",
      "112\n",
      "120\n"
     ]
    }
   ],
   "source": [
    "# using while loop to mutile the 8th table \n",
    "i=1\n",
    "j=8\n",
    "while i<16:\n",
    "    print(i*j)\n",
    "    i=i+1\n"
   ]
  },
  {
   "cell_type": "code",
   "execution_count": null,
   "id": "85df4f3c",
   "metadata": {},
   "outputs": [],
   "source": []
  },
  {
   "cell_type": "code",
   "execution_count": null,
   "id": "e37c59d4",
   "metadata": {},
   "outputs": [],
   "source": []
  },
  {
   "cell_type": "code",
   "execution_count": null,
   "id": "11156709",
   "metadata": {},
   "outputs": [],
   "source": []
  },
  {
   "cell_type": "code",
   "execution_count": null,
   "id": "de61a854",
   "metadata": {},
   "outputs": [],
   "source": []
  },
  {
   "cell_type": "code",
   "execution_count": null,
   "id": "95928eab",
   "metadata": {},
   "outputs": [],
   "source": []
  },
  {
   "cell_type": "code",
   "execution_count": null,
   "id": "24bb58c9",
   "metadata": {},
   "outputs": [],
   "source": []
  },
  {
   "cell_type": "code",
   "execution_count": null,
   "id": "75593a11",
   "metadata": {},
   "outputs": [],
   "source": []
  },
  {
   "cell_type": "code",
   "execution_count": null,
   "id": "0f2973b7",
   "metadata": {},
   "outputs": [],
   "source": []
  }
 ],
 "metadata": {
  "kernelspec": {
   "display_name": "Python 3 (ipykernel)",
   "language": "python",
   "name": "python3"
  },
  "language_info": {
   "codemirror_mode": {
    "name": "ipython",
    "version": 3
   },
   "file_extension": ".py",
   "mimetype": "text/x-python",
   "name": "python",
   "nbconvert_exporter": "python",
   "pygments_lexer": "ipython3",
   "version": "3.11.1"
  }
 },
 "nbformat": 4,
 "nbformat_minor": 5
}
