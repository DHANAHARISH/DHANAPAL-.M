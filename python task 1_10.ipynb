{
 "cells": [
  {
   "cell_type": "markdown",
   "id": "cf109961",
   "metadata": {},
   "source": [
    "# Task 1-10\n",
    "# Qst-1\n",
    " Create a variable x and assign it the value 5. Print the value of x."
   ]
  },
  {
   "cell_type": "code",
   "execution_count": 120,
   "id": "2fb0447c",
   "metadata": {},
   "outputs": [
    {
     "name": "stdout",
     "output_type": "stream",
     "text": [
      "The value of 5\n"
     ]
    }
   ],
   "source": [
    "x=5\n",
    "print(f'The value of {x}')\n"
   ]
  },
  {
   "cell_type": "markdown",
   "id": "466b2557",
   "metadata": {},
   "source": [
    "# Qst-2\n",
    "Create two variables a and b, and assign them values 3 and 2 respectively. Add a and b together and print the result"
   ]
  },
  {
   "cell_type": "code",
   "execution_count": 121,
   "id": "bb5724a2",
   "metadata": {},
   "outputs": [],
   "source": [
    "a=3\n",
    "b=2"
   ]
  },
  {
   "cell_type": "code",
   "execution_count": 122,
   "id": "05c0a07e",
   "metadata": {},
   "outputs": [
    {
     "name": "stdout",
     "output_type": "stream",
     "text": [
      "The added value of a and b is 5\n"
     ]
    }
   ],
   "source": [
    "c=a+b\n",
    "print(f'The added value of a and b is {c}')"
   ]
  },
  {
   "cell_type": "markdown",
   "id": "d7a4b53c",
   "metadata": {},
   "source": [
    "# Qst -3\n",
    " Create a variable pi and assign it the value 3.14159. Print the value of pi."
   ]
  },
  {
   "cell_type": "code",
   "execution_count": 123,
   "id": "ca503437",
   "metadata": {},
   "outputs": [
    {
     "name": "stdout",
     "output_type": "stream",
     "text": [
      "The value of 3.14159 \n"
     ]
    }
   ],
   "source": [
    "pi=3.14159\n",
    "print(f'The value of {pi} ')\n"
   ]
  },
  {
   "cell_type": "markdown",
   "id": "e655f9a0",
   "metadata": {},
   "source": [
    "# Qst-4\n",
    "    Create a variable radius and assign it the value 5.\n",
    "    Calculate the area of a circle with radius radius using theformula pi * radius ** 2 and print the result.5. "
   ]
  },
  {
   "cell_type": "code",
   "execution_count": 124,
   "id": "648c86f1",
   "metadata": {},
   "outputs": [],
   "source": [
    "r=5\n",
    "pi=3.14159\n",
    "A= pi*r**2"
   ]
  },
  {
   "cell_type": "code",
   "execution_count": 125,
   "id": "afb3de6b",
   "metadata": {},
   "outputs": [
    {
     "name": "stdout",
     "output_type": "stream",
     "text": [
      "The result of area of a circle with radius 78.53975\n"
     ]
    }
   ],
   "source": [
    "print(f'The result of area of a circle with radius {A}')"
   ]
  },
  {
   "cell_type": "markdown",
   "id": "36707c58",
   "metadata": {},
   "source": [
    "# Qst-5\n",
    "    Create a variable name and assign it your name as a string. Print a greeting using your name, such as \"Hello,[name]!\""
   ]
  },
  {
   "cell_type": "code",
   "execution_count": 126,
   "id": "e7739653",
   "metadata": {},
   "outputs": [
    {
     "name": "stdout",
     "output_type": "stream",
     "text": [
      "hello['dhana']\n"
     ]
    }
   ],
   "source": [
    "a=['dhana']\n",
    "print(f'hello{a}')"
   ]
  },
  {
   "cell_type": "code",
   "execution_count": 127,
   "id": "e2b6e246",
   "metadata": {},
   "outputs": [
    {
     "name": "stdout",
     "output_type": "stream",
     "text": [
      "I am dhanapal 24 years old\n"
     ]
    }
   ],
   "source": [
    "Age=24\n",
    "print(f'I am dhanapal {Age} years old')"
   ]
  },
  {
   "cell_type": "markdown",
   "id": "6553b8d8",
   "metadata": {},
   "source": [
    "# Qst-7\n",
    "    Create a variable height and assign it your height in meters as a float.\n",
    "    Print a sentence that includes yourheight, such as \"I am [height] meters tall.\""
   ]
  },
  {
   "cell_type": "code",
   "execution_count": 128,
   "id": "9229c933",
   "metadata": {},
   "outputs": [
    {
     "name": "stdout",
     "output_type": "stream",
     "text": [
      "I am 183.0 meters tall\n"
     ]
    }
   ],
   "source": [
    "H=float(183)\n",
    "print(f'I am {H} meters tall')"
   ]
  },
  {
   "cell_type": "markdown",
   "id": "6bb76184",
   "metadata": {},
   "source": [
    "# Qst - 8\n",
    "    Create a variable sentence and assign it a sentence as a string. Print the first letter of the sentence.\n",
    "    "
   ]
  },
  {
   "cell_type": "code",
   "execution_count": 129,
   "id": "c72e38c2",
   "metadata": {},
   "outputs": [
    {
     "name": "stdout",
     "output_type": "stream",
     "text": [
      "I\n"
     ]
    }
   ],
   "source": [
    "a='I am dhanapal '\n",
    "print(a[0])"
   ]
  },
  {
   "cell_type": "markdown",
   "id": "52055535",
   "metadata": {},
   "source": [
    "# Qst-9\n",
    "    Create a variable sentence and assign it a sentence as a string. Print the last letter of the sentence."
   ]
  },
  {
   "cell_type": "code",
   "execution_count": 130,
   "id": "001d0df7",
   "metadata": {},
   "outputs": [
    {
     "name": "stdout",
     "output_type": "stream",
     "text": [
      "l\n"
     ]
    }
   ],
   "source": [
    "a='I am dhanapal '\n",
    "print(a[12])"
   ]
  },
  {
   "cell_type": "markdown",
   "id": "3038ab17",
   "metadata": {},
   "source": [
    "# Qst-10\n",
    "Create a variable sentence and assign it a sentence as a string. Print the length of the sentence."
   ]
  },
  {
   "cell_type": "code",
   "execution_count": 131,
   "id": "dac0f969",
   "metadata": {},
   "outputs": [
    {
     "name": "stdout",
     "output_type": "stream",
     "text": [
      "15\n"
     ]
    }
   ],
   "source": [
    "a=' i am dhanapal '\n",
    "print(len(a))"
   ]
  }
 ],
 "metadata": {
  "kernelspec": {
   "display_name": "Python 3 (ipykernel)",
   "language": "python",
   "name": "python3"
  },
  "language_info": {
   "codemirror_mode": {
    "name": "ipython",
    "version": 3
   },
   "file_extension": ".py",
   "mimetype": "text/x-python",
   "name": "python",
   "nbconvert_exporter": "python",
   "pygments_lexer": "ipython3",
   "version": "3.11.1"
  }
 },
 "nbformat": 4,
 "nbformat_minor": 5
}
