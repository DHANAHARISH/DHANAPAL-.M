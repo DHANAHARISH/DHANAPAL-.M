{
 "cells": [
  {
   "cell_type": "markdown",
   "id": "9bc434b1",
   "metadata": {},
   "source": [
    "# Task 1-10\n",
    "# Qst-1\n",
    " Create a variable x and assign it the value 5. Print the value of x."
   ]
  },
  {
   "cell_type": "code",
   "execution_count": 24,
   "id": "9705c064",
   "metadata": {},
   "outputs": [
    {
     "name": "stdout",
     "output_type": "stream",
     "text": [
      "The value of 5\n"
     ]
    }
   ],
   "source": [
    "x=5\n",
    "print(f'The value of {x}')\n"
   ]
  },
  {
   "cell_type": "markdown",
   "id": "186809f6",
   "metadata": {},
   "source": [
    "# Qst-2\n",
    "Create two variables a and b, and assign them values 3 and 2 respectively. Add a and b together and print the result"
   ]
  },
  {
   "cell_type": "code",
   "execution_count": 25,
   "id": "44df4a46",
   "metadata": {},
   "outputs": [],
   "source": [
    "a=3\n",
    "b=2"
   ]
  },
  {
   "cell_type": "code",
   "execution_count": 27,
   "id": "0eb970d7",
   "metadata": {},
   "outputs": [
    {
     "name": "stdout",
     "output_type": "stream",
     "text": [
      "The added value of a and b is 5\n"
     ]
    }
   ],
   "source": [
    "c=a+b\n",
    "print(f'The added value of a and b is {c}')"
   ]
  },
  {
   "cell_type": "markdown",
   "id": "92573044",
   "metadata": {},
   "source": [
    "# Qst -3\n",
    " Create a variable pi and assign it the value 3.14159. Print the value of pi."
   ]
  },
  {
   "cell_type": "code",
   "execution_count": 32,
   "id": "d88ec71a",
   "metadata": {},
   "outputs": [],
   "source": [
    "a=22\n",
    "b=7"
   ]
  },
  {
   "cell_type": "code",
   "execution_count": 33,
   "id": "8984182f",
   "metadata": {},
   "outputs": [
    {
     "name": "stdout",
     "output_type": "stream",
     "text": [
      "The value of 3.142857142857143 \n"
     ]
    }
   ],
   "source": [
    "pi=a/b\n",
    "print(f'The value of {pi} ')\n"
   ]
  },
  {
   "cell_type": "markdown",
   "id": "9dc4c1fe",
   "metadata": {},
   "source": [
    "# Qst-4\n",
    "    Create a variable radius and assign it the value 5.\n",
    "    Calculate the area of a circle with radius radius using theformula pi * radius ** 2 and print the result.5. "
   ]
  },
  {
   "cell_type": "code",
   "execution_count": 34,
   "id": "39a2bc76",
   "metadata": {},
   "outputs": [],
   "source": [
    "r=5\n",
    "pi=3.14159\n",
    "A= pi*r**2"
   ]
  },
  {
   "cell_type": "code",
   "execution_count": 35,
   "id": "b4a630c4",
   "metadata": {},
   "outputs": [
    {
     "name": "stdout",
     "output_type": "stream",
     "text": [
      "The result of area of a circle with radius 78.53975\n"
     ]
    }
   ],
   "source": [
    "print(f'The result of area of a circle with radius {A}')"
   ]
  },
  {
   "cell_type": "markdown",
   "id": "bbd0168e",
   "metadata": {},
   "source": [
    "# Qst-5\n",
    "    Create a variable name and assign it your name as a string. Print a greeting using your name, such as \"Hello,[name]!\""
   ]
  },
  {
   "cell_type": "code",
   "execution_count": 55,
   "id": "81ac93a7",
   "metadata": {},
   "outputs": [
    {
     "name": "stdout",
     "output_type": "stream",
     "text": [
      "dhana\n",
      "hello\n"
     ]
    }
   ],
   "source": [
    "a=['dhana']\n",
    "for i in a:\n",
    "    print (i)\n",
    "    if i=='dhana':\n",
    "        print('hello')\n",
    "        \n",
    "    "
   ]
  },
  {
   "cell_type": "markdown",
   "id": "4c67d9ad",
   "metadata": {},
   "source": [
    "# Qst-6\n",
    "6. Create a variable age and assign it your age as an integer. Print a sentence that includes your age, such as \"I am[age] years old.\""
   ]
  },
  {
   "cell_type": "code",
   "execution_count": 59,
   "id": "a05819e5",
   "metadata": {},
   "outputs": [
    {
     "name": "stdout",
     "output_type": "stream",
     "text": [
      "I am dhanapal 24 years old\n"
     ]
    }
   ],
   "source": [
    "Age=24\n",
    "print(f'I am dhanapal {Age} years old')"
   ]
  },
  {
   "cell_type": "markdown",
   "id": "59d223a9",
   "metadata": {},
   "source": [
    "# Qst-7\n",
    "    Create a variable height and assign it your height in meters as a float.\n",
    "    Print a sentence that includes yourheight, such as \"I am [height] meters tall.\""
   ]
  },
  {
   "cell_type": "code",
   "execution_count": 61,
   "id": "298034cf",
   "metadata": {},
   "outputs": [
    {
     "name": "stdout",
     "output_type": "stream",
     "text": [
      "I am 183.0 meters tall\n"
     ]
    }
   ],
   "source": [
    "H=float(183)\n",
    "print(f'I am {H} meters tall')"
   ]
  },
  {
   "cell_type": "markdown",
   "id": "7db3037b",
   "metadata": {},
   "source": [
    "# Qst - 8\n",
    "    Create a variable sentence and assign it a sentence as a string. Print the first letter of the sentence.\n",
    "    "
   ]
  },
  {
   "cell_type": "code",
   "execution_count": 78,
   "id": "72d55c6d",
   "metadata": {},
   "outputs": [
    {
     "name": "stdout",
     "output_type": "stream",
     "text": [
      "I\n"
     ]
    }
   ],
   "source": [
    "a='I am dhanapal '\n",
    "print(a[0])"
   ]
  },
  {
   "cell_type": "markdown",
   "id": "d9c3548d",
   "metadata": {},
   "source": [
    "# Qst-9\n",
    "    Create a variable sentence and assign it a sentence as a string. Print the last letter of the sentence."
   ]
  },
  {
   "cell_type": "code",
   "execution_count": 82,
   "id": "1f7eb760",
   "metadata": {},
   "outputs": [
    {
     "name": "stdout",
     "output_type": "stream",
     "text": [
      "l\n"
     ]
    }
   ],
   "source": [
    "a='I am dhanapal '\n",
    "print(a[12])"
   ]
  },
  {
   "cell_type": "markdown",
   "id": "101787b7",
   "metadata": {},
   "source": [
    "# Qst-10\n",
    "Create a variable sentence and assign it a sentence as a string. Print the length of the sentence."
   ]
  },
  {
   "cell_type": "code",
   "execution_count": 84,
   "id": "3dac3fca",
   "metadata": {},
   "outputs": [
    {
     "name": "stdout",
     "output_type": "stream",
     "text": [
      "15\n"
     ]
    }
   ],
   "source": [
    "a=' i am dhanapal '\n",
    "print(len(a))"
   ]
  },
  {
   "cell_type": "code",
   "execution_count": null,
   "id": "71361a2b",
   "metadata": {},
   "outputs": [],
   "source": []
  }
 ],
 "metadata": {
  "kernelspec": {
   "display_name": "Python 3 (ipykernel)",
   "language": "python",
   "name": "python3"
  },
  "language_info": {
   "codemirror_mode": {
    "name": "ipython",
    "version": 3
   },
   "file_extension": ".py",
   "mimetype": "text/x-python",
   "name": "python",
   "nbconvert_exporter": "python",
   "pygments_lexer": "ipython3",
   "version": "3.11.1"
  }
 },
 "nbformat": 4,
 "nbformat_minor": 5
}
